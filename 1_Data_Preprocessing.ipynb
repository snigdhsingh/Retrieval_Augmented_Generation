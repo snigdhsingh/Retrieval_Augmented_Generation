{
 "cells": [
  {
   "cell_type": "code",
   "execution_count": 1,
   "metadata": {},
   "outputs": [],
   "source": [
    "## INSTALL DEPENDENT LIBRARIES\n",
    "\n",
    "\n",
    "!pip install tqdm --quiet\n",
    "!pip install pandas --quiet\n",
    "#workhorse for converting text into embeddings/vectors\n",
    "!pip install sentence-transformers==2.2.2 --quiet\n",
    "#data framework for LLM applications\n",
    "!pip install llama-index==0.9.6.post1 --quiet\n",
    "#logging output\n",
    "!pip install loguru==0.7.0 --quiet\n",
    "#convenient pretty printing library\n",
    "!pip install rich==13.7.0 --quiet\n",
    "#openai Tokenizer library\n",
    "!pip install tiktoken --quiet"
   ]
  },
  {
   "cell_type": "code",
   "execution_count": 2,
   "metadata": {},
   "outputs": [],
   "source": [
    "#standard libraries\n",
    "import json\n",
    "import os\n",
    "import time\n",
    "from collections import defaultdict\n",
    "from typing import List, Dict, Tuple, Union, Callable\n",
    "from math import ceil\n",
    "\n",
    "#external libraries\n",
    "import pandas as pd\n",
    "import numpy as np\n",
    "from rich import print\n",
    "from torch import cuda\n",
    "from tqdm.notebook import tqdm\n",
    "\n",
    "#external files\n",
    "from preprocessing import FileIO"
   ]
  },
  {
   "cell_type": "markdown",
   "metadata": {},
   "source": [
    " ## Step 1 -->  Import YouTube/Podcast Transcripts\n",
    "***\n",
    "### The Data\n",
    "The data - **384** podcast episodes to be exact - we will use for this project is a collection of transcribed podcast/youtube episodes of <a href=\"https://www.youtube.com/@TomBilyeu\" target=\"_blank\">The Impact Theory</a>.  From the About section of Impact Theory:\n",
    "<h4 ><em>\"Impact Theory™ is a weekly interview show that explores the mindsets of the world's highest achievers to learn their secrets to success.</em></h4>\n",
    "<h4 ><em>Hosted by Quest Nutrition co-founder Tom Bilyeu, Impact Theory is designed to give people the tools and knowledge they need to unlock their potential and impact the world.\"</em></h4>\n",
    "<br>\n",
    " The episodes for this course were pulled from the podcast audio files and transcribed using the OpenAI open source [Whisper model](https://github.com/openai/whisper).  The transcriptions were then linked back to each episode using a unique **video_id**. \n",
    "\n"
   ]
  },
  {
   "cell_type": "code",
   "execution_count": 3,
   "metadata": {},
   "outputs": [
    {
     "data": {
      "text/html": [
       "<pre style=\"white-space:pre;overflow-x:auto;line-height:normal;font-family:Menlo,'DejaVu Sans Mono',consolas,'Courier New',monospace\">Total # of episodes: <span style=\"color: #008080; text-decoration-color: #008080; font-weight: bold\">384</span>\n",
       "</pre>\n"
      ],
      "text/plain": [
       "Total # of episodes: \u001b[1;36m384\u001b[0m\n"
      ]
     },
     "metadata": {},
     "output_type": "display_data"
    }
   ],
   "source": [
    "root_folder = 'data/'\n",
    "data_file = 'impact_theory_data.json'\n",
    "data_path = os.path.join(root_folder, data_file)\n",
    "\n",
    "with open(data_path) as f:\n",
    "    data =  json.load(f)\n",
    "print(f'Total # of episodes: {len(data)}')"
   ]
  },
  {
   "cell_type": "code",
   "execution_count": 4,
   "metadata": {},
   "outputs": [
    {
     "data": {
      "text/plain": [
       "'data/impact_theory_data.json'"
      ]
     },
     "execution_count": 4,
     "metadata": {},
     "output_type": "execute_result"
    }
   ],
   "source": [
    "data_path"
   ]
  },
  {
   "cell_type": "code",
   "execution_count": 5,
   "metadata": {},
   "outputs": [],
   "source": [
    "# uncomment the following line to see data for first entry, it's big\n",
    "# data[0]"
   ]
  },
  {
   "cell_type": "code",
   "execution_count": 6,
   "metadata": {},
   "outputs": [
    {
     "data": {
      "text/html": [
       "<pre style=\"white-space:pre;overflow-x:auto;line-height:normal;font-family:Menlo,'DejaVu Sans Mono',consolas,'Courier New',monospace\"><span style=\"font-weight: bold\">[</span>\n",
       "    <span style=\"color: #008000; text-decoration-color: #008000\">'title'</span>,\n",
       "    <span style=\"color: #008000; text-decoration-color: #008000\">'video_id'</span>,\n",
       "    <span style=\"color: #008000; text-decoration-color: #008000\">'playlist_id'</span>,\n",
       "    <span style=\"color: #008000; text-decoration-color: #008000\">'length'</span>,\n",
       "    <span style=\"color: #008000; text-decoration-color: #008000\">'thumbnail_url'</span>,\n",
       "    <span style=\"color: #008000; text-decoration-color: #008000\">'views'</span>,\n",
       "    <span style=\"color: #008000; text-decoration-color: #008000\">'episode_url'</span>,\n",
       "    <span style=\"color: #008000; text-decoration-color: #008000\">'guest'</span>,\n",
       "    <span style=\"color: #008000; text-decoration-color: #008000\">'summary'</span>,\n",
       "    <span style=\"color: #008000; text-decoration-color: #008000\">'content'</span>\n",
       "<span style=\"font-weight: bold\">]</span>\n",
       "</pre>\n"
      ],
      "text/plain": [
       "\u001b[1m[\u001b[0m\n",
       "    \u001b[32m'title'\u001b[0m,\n",
       "    \u001b[32m'video_id'\u001b[0m,\n",
       "    \u001b[32m'playlist_id'\u001b[0m,\n",
       "    \u001b[32m'length'\u001b[0m,\n",
       "    \u001b[32m'thumbnail_url'\u001b[0m,\n",
       "    \u001b[32m'views'\u001b[0m,\n",
       "    \u001b[32m'episode_url'\u001b[0m,\n",
       "    \u001b[32m'guest'\u001b[0m,\n",
       "    \u001b[32m'summary'\u001b[0m,\n",
       "    \u001b[32m'content'\u001b[0m\n",
       "\u001b[1m]\u001b[0m\n"
      ]
     },
     "metadata": {},
     "output_type": "display_data"
    },
    {
     "data": {
      "text/html": [
       "<pre style=\"white-space:pre;overflow-x:auto;line-height:normal;font-family:Menlo,'DejaVu Sans Mono',consolas,'Courier New',monospace\">content : You said these are dangerous times. The world order is shifting before our eyes. We also both know that \n",
       "with hyper disruptive technologies like AI on the horizon, a good outcome is not guaranteed. Why do you think big \n",
       "tech will become the third superpower and what are the dangers and opportunities if it does? Big tech is \n",
       "essentially sovereign over the digital world. The fact that former President Trump was de-platformed from Facebook \n",
       "and from Twitter when he was president, you know, most powerful political figure on the planet. And he's just taken\n",
       "off of those networks and as a consequence, hu\n",
       "</pre>\n"
      ],
      "text/plain": [
       "content : You said these are dangerous times. The world order is shifting before our eyes. We also both know that \n",
       "with hyper disruptive technologies like AI on the horizon, a good outcome is not guaranteed. Why do you think big \n",
       "tech will become the third superpower and what are the dangers and opportunities if it does? Big tech is \n",
       "essentially sovereign over the digital world. The fact that former President Trump was de-platformed from Facebook \n",
       "and from Twitter when he was president, you know, most powerful political figure on the planet. And he's just taken\n",
       "off of those networks and as a consequence, hu\n"
      ]
     },
     "metadata": {},
     "output_type": "display_data"
    }
   ],
   "source": [
    "# Seeing truncated data and field names\n",
    "my_fields = []\n",
    "for key, value in data[0].items() :\n",
    "    my_fields.append(key)\n",
    "\n",
    "print (my_fields)\n",
    "print (\"content : {}\".format(data[0]['content'][0:600]))"
   ]
  },
  {
   "cell_type": "markdown",
   "metadata": {},
   "source": [
    "### Metadata Glossary\n",
    "- **title**: Episode title.\n",
    "- **video_id**: Unique identifier for each individual episode.\n",
    "- **playlist_id**: Unique identifier for entire playlist of episodes.  All episodes in this dataset will have the same playlist_id.\n",
    "- **length**: Length of the episode in total seconds.\n",
    "- **thumbnail_url**: Hyperlink to the associated image of the YouTube episode.\n",
    "- **views**: Number of views of this YouTube episode.\n",
    "- **episode_url**: Hyperlink to the episode on YouTube.\n",
    "- **guest**: Main guest for the episode.\n",
    "- **summary**: Summary of the episode (AI generated).\n",
    "- **content**: The full transcript of the episode."
   ]
  },
  {
   "cell_type": "code",
   "execution_count": 7,
   "metadata": {},
   "outputs": [
    {
     "data": {
      "text/html": [
       "<div>\n",
       "<style scoped>\n",
       "    .dataframe tbody tr th:only-of-type {\n",
       "        vertical-align: middle;\n",
       "    }\n",
       "\n",
       "    .dataframe tbody tr th {\n",
       "        vertical-align: top;\n",
       "    }\n",
       "\n",
       "    .dataframe thead th {\n",
       "        text-align: right;\n",
       "    }\n",
       "</style>\n",
       "<table border=\"1\" class=\"dataframe\">\n",
       "  <thead>\n",
       "    <tr style=\"text-align: right;\">\n",
       "      <th></th>\n",
       "      <th># Words</th>\n",
       "    </tr>\n",
       "  </thead>\n",
       "  <tbody>\n",
       "    <tr>\n",
       "      <th>count</th>\n",
       "      <td>384.000000</td>\n",
       "    </tr>\n",
       "    <tr>\n",
       "      <th>mean</th>\n",
       "      <td>12821.268229</td>\n",
       "    </tr>\n",
       "    <tr>\n",
       "      <th>std</th>\n",
       "      <td>7650.847177</td>\n",
       "    </tr>\n",
       "    <tr>\n",
       "      <th>min</th>\n",
       "      <td>1819.000000</td>\n",
       "    </tr>\n",
       "    <tr>\n",
       "      <th>25%</th>\n",
       "      <td>7888.000000</td>\n",
       "    </tr>\n",
       "    <tr>\n",
       "      <th>50%</th>\n",
       "      <td>9894.500000</td>\n",
       "    </tr>\n",
       "    <tr>\n",
       "      <th>75%</th>\n",
       "      <td>16857.000000</td>\n",
       "    </tr>\n",
       "    <tr>\n",
       "      <th>max</th>\n",
       "      <td>48502.000000</td>\n",
       "    </tr>\n",
       "  </tbody>\n",
       "</table>\n",
       "</div>"
      ],
      "text/plain": [
       "            # Words\n",
       "count    384.000000\n",
       "mean   12821.268229\n",
       "std     7650.847177\n",
       "min     1819.000000\n",
       "25%     7888.000000\n",
       "50%     9894.500000\n",
       "75%    16857.000000\n",
       "max    48502.000000"
      ]
     },
     "execution_count": 7,
     "metadata": {},
     "output_type": "execute_result"
    }
   ],
   "source": [
    "#content length stats\n",
    "contents = [d['content'] for d in data]\n",
    "content_lengths = [len(content.split()) for content in contents]\n",
    "df = pd.DataFrame(content_lengths, columns=['# Words'])\n",
    "df.describe()"
   ]
  },
  {
   "cell_type": "markdown",
   "metadata": {},
   "source": [
    "### Tokens\n",
    "In the above example we split our content on whitespace which effectively splits the entire episode into a list of words....but LLMs operate on tokens. Tokens are words or sub-parts of words, so the word \"texting\" might be broken into two tokens `text` and `##ing`. Punctuation are also given their own tokens, so a period, a comma, or an apostropher are all going to have their own tokenized versions.  A [750 word document will be about 1000 tokens](https://www.anyscale.com/blog/num-every-llm-developer-should-know), in other words the token to word ratio is roughly 1.3 tokens = 1 word. Let's see what this looks like in practice."
   ]
  },
  {
   "cell_type": "code",
   "execution_count": 8,
   "metadata": {},
   "outputs": [
    {
     "data": {
      "text/html": [
       "<pre style=\"white-space:pre;overflow-x:auto;line-height:normal;font-family:Menlo,'DejaVu Sans Mono',consolas,'Courier New',monospace\">The mean word count for each episode is about <span style=\"color: #008080; text-decoration-color: #008080; font-weight: bold\">12822</span> words, which corresponds to a rough token count of <span style=\"color: #008080; text-decoration-color: #008080; font-weight: bold\">16669</span> \n",
       "tokens.\n",
       "</pre>\n"
      ],
      "text/plain": [
       "The mean word count for each episode is about \u001b[1;36m12822\u001b[0m words, which corresponds to a rough token count of \u001b[1;36m16669\u001b[0m \n",
       "tokens.\n"
      ]
     },
     "metadata": {},
     "output_type": "display_data"
    }
   ],
   "source": [
    "mean_word_count = ceil(np.mean(content_lengths))\n",
    "token_to_word_ratio = 1.3\n",
    "approx_token_count = ceil(mean_word_count * token_to_word_ratio)\n",
    "print(f'The mean word count for each episode is about {mean_word_count} words, which corresponds to a rough token count of {approx_token_count} tokens.')"
   ]
  },
  {
   "cell_type": "markdown",
   "metadata": {},
   "source": [
    "For the sake of precision, let's actually tokenize our content and see how close we get to the **1.3** `token_to_word_ratio`.  We'll use the tokenizer for the `gpt-3.5-turbo-0613` LLM (avilable through the `tikotken` library)."
   ]
  },
  {
   "cell_type": "code",
   "execution_count": 9,
   "metadata": {},
   "outputs": [
    {
     "data": {
      "text/html": [
       "<div>\n",
       "<style scoped>\n",
       "    .dataframe tbody tr th:only-of-type {\n",
       "        vertical-align: middle;\n",
       "    }\n",
       "\n",
       "    .dataframe tbody tr th {\n",
       "        vertical-align: top;\n",
       "    }\n",
       "\n",
       "    .dataframe thead th {\n",
       "        text-align: right;\n",
       "    }\n",
       "</style>\n",
       "<table border=\"1\" class=\"dataframe\">\n",
       "  <thead>\n",
       "    <tr style=\"text-align: right;\">\n",
       "      <th></th>\n",
       "      <th># Tokens</th>\n",
       "    </tr>\n",
       "  </thead>\n",
       "  <tbody>\n",
       "    <tr>\n",
       "      <th>count</th>\n",
       "      <td>384.000000</td>\n",
       "    </tr>\n",
       "    <tr>\n",
       "      <th>mean</th>\n",
       "      <td>15516.523438</td>\n",
       "    </tr>\n",
       "    <tr>\n",
       "      <th>std</th>\n",
       "      <td>9380.049480</td>\n",
       "    </tr>\n",
       "    <tr>\n",
       "      <th>min</th>\n",
       "      <td>2210.000000</td>\n",
       "    </tr>\n",
       "    <tr>\n",
       "      <th>25%</th>\n",
       "      <td>9523.750000</td>\n",
       "    </tr>\n",
       "    <tr>\n",
       "      <th>50%</th>\n",
       "      <td>12007.500000</td>\n",
       "    </tr>\n",
       "    <tr>\n",
       "      <th>75%</th>\n",
       "      <td>20268.000000</td>\n",
       "    </tr>\n",
       "    <tr>\n",
       "      <th>max</th>\n",
       "      <td>61559.000000</td>\n",
       "    </tr>\n",
       "  </tbody>\n",
       "</table>\n",
       "</div>"
      ],
      "text/plain": [
       "           # Tokens\n",
       "count    384.000000\n",
       "mean   15516.523438\n",
       "std     9380.049480\n",
       "min     2210.000000\n",
       "25%     9523.750000\n",
       "50%    12007.500000\n",
       "75%    20268.000000\n",
       "max    61559.000000"
      ]
     },
     "execution_count": 9,
     "metadata": {},
     "output_type": "execute_result"
    }
   ],
   "source": [
    "import tiktoken # Awesome tokenizer library for use with OpenAI LLMs\n",
    "\n",
    "#instantiate tokenizer for use with ChatGPT-3.5-Turbo\n",
    "encoding = tiktoken.encoding_for_model('gpt-3.5-turbo-0613')\n",
    "\n",
    "tokens = encoding.encode_batch(contents)\n",
    "token_counts = list(map(len, tokens))\n",
    "token_df = pd.DataFrame(token_counts, columns=['# Tokens'])\n",
    "token_df.describe()"
   ]
  },
  {
   "cell_type": "code",
   "execution_count": 10,
   "metadata": {},
   "outputs": [
    {
     "data": {
      "text/plain": [
       "1.21"
      ]
     },
     "execution_count": 10,
     "metadata": {},
     "output_type": "execute_result"
    }
   ],
   "source": [
    "#How close to this approximate 1.3 token:word ratio were we\n",
    "true_ratio = round(np.mean(token_counts)/mean_word_count, 2)\n",
    "true_ratio"
   ]
  },
  {
   "cell_type": "code",
   "execution_count": 11,
   "metadata": {},
   "outputs": [
    {
     "data": {
      "text/html": [
       "<pre style=\"white-space:pre;overflow-x:auto;line-height:normal;font-family:Menlo,'DejaVu Sans Mono',consolas,'Courier New',monospace\">Total Tokens in Corpus: <span style=\"color: #008080; text-decoration-color: #008080; font-weight: bold\">5958345</span>\n",
       "</pre>\n"
      ],
      "text/plain": [
       "Total Tokens in Corpus: \u001b[1;36m5958345\u001b[0m\n"
      ]
     },
     "metadata": {},
     "output_type": "display_data"
    }
   ],
   "source": [
    "#Let's get one more metric, let's see how big (in tokens) the size of our total corpus is:\n",
    "total_tokens = sum(token_counts)\n",
    "print(f'Total Tokens in Corpus: {total_tokens}')"
   ]
  },
  {
   "cell_type": "markdown",
   "metadata": {},
   "source": [
    "6 million tokens is no small matter, it's roughly equivalent to 10,000 pages of text, but to put things in perspective the Falcon-40B LLM was trained on a [1 trillion token](https://synthedia.substack.com/p/falcon-40b-llm-trained-on-1-trillion) corpus, which is 167,000 times larger than the one we are currently using! 🤯\n",
    "\n",
    "Embedding Tokens vs. LLM Tokens (i.e. Retriever vs. Reader):\n",
    "\n",
    "We know that as part of our system we want to feed relevant context to an OpenAI LLM.  All LLMs, even the largest ones, have a limited input context window, so we'll have to take that into consideration as part of our system design.  But before we even get to that point, we have to first consider the maximum input sequence (in tokens) for our emebdding model.  Given that the mean token count for each of our podcast episodes is over 15K tokens, we'll need a way to chunk our content so that we can effectively embed the transcript into several meaningful embeddings as opposed to one embedding for the entire transcript. Let's address how we'll accomplish that task.\n",
    "\n",
    "## Step 2 -->  Sentence Splitting and Chunking\n",
    "***\n",
    "\n",
    "### Chunking:\n",
    "The open source embedding models that we will be working with have a `max_sequence_length` parameter far less than 15K tokens. In fact, the embedding model that we'll use: [`all-miniLM-L6-v2`](https://huggingface.co/sentence-transformers/all-MiniLM-L6-v2), has a default max input length of 256 tokens. In order to effectively process the content of our podcast episodes, we'll need to decide on a **Chunking Strategy**.\n",
    "\n",
    "1. Gather documents.  In our case we're considering a single Impact Theory episode to be a \"document\".\n",
    "2. Decide how to split your documents.  When working with text documents, a good starting strategy is to split on sentence boundaries.  This decision at the very least, prevents input text from randomly being cut off in the middle of a paragraph.  We'll use an excellent piece of code written by [LlamaIndex](https://github.com/run-llama/llama_index/blob/main/llama_index/node_parser/text/sentence.py) namely, the `SentenceSplitter` class.\n",
    "3. Pick a chunk size based on your use case.  Given that the `all-miniLM-L6-v2` was trained on documents no greater than 256 tokens in length, we'll start with 256.  A chunk size of 256 strikes a good balance between information granularity and not blowing up the embedding space.\n",
    "4. After splitting, a single episode will be broken up into `n` number of chunks, depending on the length of the episode.  Each of those chunks, however, should be no longer than 256 tokens.  Those chunks can then be passed through our embedding model as inputs and converted into vector representations.\n",
    "5. The final step is combining the text chunks, their associated vectors, and the original metadata into a single dictionary (one for each chunk), in preparation for follow-on indexing on our Weaviate datastore."
   ]
  },
  {
   "cell_type": "code",
   "execution_count": 12,
   "metadata": {},
   "outputs": [],
   "source": [
    "from llama_index.text_splitter import SentenceSplitter #one of the best on the market\n",
    "\n",
    "#set chunk size and instantiate your SentenceSplitter\n",
    "chunk_size = 256\n",
    "gpt35_txt_splitter = SentenceSplitter(chunk_size=chunk_size, tokenizer=encoding.encode, chunk_overlap=0)"
   ]
  },
  {
   "cell_type": "code",
   "execution_count": 13,
   "metadata": {},
   "outputs": [],
   "source": [
    "def split_contents(corpus: List[dict],\n",
    "                   text_splitter: SentenceSplitter,\n",
    "                   content_field: str='content'\n",
    "                   ) -> List[List[str]]:\n",
    "\n",
    "    corpus_chunk_list = []\n",
    "    for episode in corpus:\n",
    "      output = text_splitter.split_text(episode[content_field])\n",
    "      corpus_chunk_list.append(output)\n",
    "    \n",
    "    return corpus_chunk_list\n",
    "\n",
    "content_splits = split_contents(data, gpt35_txt_splitter)"
   ]
  },
  {
   "cell_type": "code",
   "execution_count": 14,
   "metadata": {},
   "outputs": [
    {
     "data": {
      "text/html": [
       "<pre style=\"white-space:pre;overflow-x:auto;line-height:normal;font-family:Menlo,'DejaVu Sans Mono',consolas,'Courier New',monospace\"><span style=\"color: #008080; text-decoration-color: #008080; font-weight: bold\">384</span>\n",
       "</pre>\n"
      ],
      "text/plain": [
       "\u001b[1;36m384\u001b[0m\n"
      ]
     },
     "metadata": {},
     "output_type": "display_data"
    },
    {
     "data": {
      "text/html": [
       "<pre style=\"white-space:pre;overflow-x:auto;line-height:normal;font-family:Menlo,'DejaVu Sans Mono',consolas,'Courier New',monospace\"><span style=\"color: #008080; text-decoration-color: #008080; font-weight: bold\">83</span>\n",
       "</pre>\n"
      ],
      "text/plain": [
       "\u001b[1;36m83\u001b[0m\n"
      ]
     },
     "metadata": {},
     "output_type": "display_data"
    }
   ],
   "source": [
    "print (len(content_splits))\n",
    "print (len(content_splits[0]))"
   ]
  },
  {
   "cell_type": "code",
   "execution_count": 15,
   "metadata": {},
   "outputs": [
    {
     "name": "stderr",
     "output_type": "stream",
     "text": [
      ".\n",
      "----------------------------------------------------------------------\n",
      "Ran 1 test in 0.430s\n",
      "\n",
      "OK\n"
     ]
    },
    {
     "data": {
      "text/plain": [
       "<unittest.runner.TextTestResult run=1 errors=0 failures=0>"
      ]
     },
     "execution_count": 15,
     "metadata": {},
     "output_type": "execute_result"
    }
   ],
   "source": [
    "import unittest\n",
    "from unitesting_utils import load_impact_theory_data\n",
    "\n",
    "class TestSplitContents(unittest.TestCase):\n",
    "    '''\n",
    "    Unit test to ensure proper functionality of split_contents function\n",
    "    '''\n",
    "\n",
    "    def test_split_contents(self):\n",
    "        import tiktoken\n",
    "        from llama_index.text_splitter import SentenceSplitter\n",
    "\n",
    "        data = load_impact_theory_data()\n",
    "\n",
    "        subset = data[:3]\n",
    "        chunk_size = 256\n",
    "        chunk_overlap = 0\n",
    "        encoding = tiktoken.encoding_for_model('gpt-3.5-turbo-0613')\n",
    "        gpt35_txt_splitter = SentenceSplitter(chunk_size=chunk_size, tokenizer=encoding.encode, chunk_overlap=chunk_overlap)\n",
    "        results = split_contents(subset, gpt35_txt_splitter)\n",
    "        self.assertEqual(len(results), 3)\n",
    "        self.assertEqual(len(results[0]), 83)\n",
    "        self.assertEqual(len(results[1]), 178)\n",
    "        self.assertEqual(len(results[2]), 144)\n",
    "        self.assertTrue(isinstance(results, list))\n",
    "        self.assertTrue(isinstance(results[0], list))\n",
    "        self.assertTrue(isinstance(results[0][0], str))\n",
    "unittest.TextTestRunner().run(unittest.TestLoader().loadTestsFromTestCase(TestSplitContents))"
   ]
  },
  {
   "cell_type": "code",
   "execution_count": 16,
   "metadata": {},
   "outputs": [
    {
     "data": {
      "image/png": "[encoded data removed]",
      "text/plain": [
       "<Figure size 1440x576 with 1 Axes>"
      ]
     },
     "metadata": {
      "needs_background": "light"
     },
     "output_type": "display_data"
    }
   ],
   "source": [
    "import matplotlib.pyplot as plt\n",
    "import matplotlib.ticker as ticker\n",
    "\n",
    "#helper function to capture the lengths of each split\n",
    "def get_split_lengths(splits: List[List[str]], column_name: str='Split Lengths'):\n",
    "    \n",
    "    lengths = list(map(len, splits))\n",
    "    return pd.DataFrame(lengths, columns=[column_name])\n",
    "\n",
    "column_name = 'Split Lengths'\n",
    "df = get_split_lengths(content_splits, column_name=column_name)\n",
    "# reverse the order of the episode # to correctly show left to right chronological order\n",
    "df.index = sorted(list(df.index), reverse=True)\n",
    "# create plot\n",
    "ax = df.iloc[::-1].plot.bar(y='Split Lengths', xlabel='Episode #', ylabel='Approx. Length in Tokens', title='Episode Length (in tokens) over Time', figsize=(20,8))\n",
    "ax.xaxis.set_major_locator(ticker.MultipleLocator(10))"
   ]
  },
  {
   "cell_type": "markdown",
   "metadata": {},
   "source": [
    "## Step 3 -->  Encode Text Chunks as Vectors\n",
    "We are going to use the `all-MiniLM-L6-v2` variant because it's actually quite good out of the box and it also happens to be very fast (at embedding creation).  [Click here](https://www.sbert.net/docs/pretrained_models.html) for a comprehensive list of available pretrained SentenceTransformers (these are all available through the HuggingFace API).\n",
    "\n",
    "Becuase we are building an Information Retrieval system that utilizes Vector Search, we're going to be most interested in the following numbers:\n",
    "- Performance Semantic Search\n",
    "- Speed (encoding speed)\n",
    "- Model Size\n",
    "\n",
    "Ultimately model selection comes down to your use case and the trade-off between performance and latency (and to a degree the size of the model on disk). Give yourself a chance to experiment with different embedding models to see how they can boost retrieval performance in your system.  When you're ready for that step head on over to the [Massive Text Embedding Benchmark (MTEB) Leaderboard](https://huggingface.co/spaces/mteb/leaderboard) where you can check out the latest state of the art embedding models.  The `all-MiniLM-L6-v2` ranks a lowly 47th on the Retrieval task.  "
   ]
  },
  {
   "cell_type": "code",
   "execution_count": 17,
   "metadata": {},
   "outputs": [
    {
     "data": {
      "text/plain": [
       "SentenceTransformer(\n",
       "  (0): Transformer({'max_seq_length': 256, 'do_lower_case': False}) with Transformer model: BertModel \n",
       "  (1): Pooling({'word_embedding_dimension': 384, 'pooling_mode_cls_token': False, 'pooling_mode_mean_tokens': True, 'pooling_mode_max_tokens': False, 'pooling_mode_mean_sqrt_len_tokens': False})\n",
       "  (2): Normalize()\n",
       ")"
      ]
     },
     "execution_count": 17,
     "metadata": {},
     "output_type": "execute_result"
    }
   ],
   "source": [
    "from sentence_transformers import SentenceTransformer\n",
    "#define the model you want to use\n",
    "model_name = 'sentence-transformers/all-MiniLM-L6-v2'\n",
    "model = SentenceTransformer(model_name)\n",
    "model"
   ]
  },
  {
   "cell_type": "markdown",
   "metadata": {},
   "source": [
    "A quick glance at the model configuration shows us the following information:\n",
    "- **Max sequence length:** (or input length) is 256 tokens.  The underlying model is a BERT model, so technically we could adjust this parameter to 512 tokens, however, because the model was trained on inputs of no greater than 256 tokens, we'll keep the default.\n",
    "- **The embedding dimension:** (i.e. the output vector) is 384 dimensions.  Make sure not to confuse the `max_sequence_length` with the embedding dimesion.  The maximum sequence length is the maximum number of input tokens the model will process before truncating any text over that limit, and the emnbedding dim is the length of the output vector which always remains fixed in size.\n",
    "- **Pooling Layer:** this model uses the mean token pooling strategy for creating a fixed sized embedding from all vector outputs.\n",
    "\n",
    "We are going to work solely with the `model.encode` method for our text embedding creation.  There is a surprising amount of work being done under the hood with this function to include word tokenization, batching, GPU device setting, etc.\n",
    "- `sentences`: accepts either a single string or a list of strings.  Very convenient.  This will allow us to enter all of the chunks from a single podcast episode at once, allowing for efficient processing and episode integrity.\n",
    "- `batch_size`: under the hood the list of sentences in the input is batched.  Default is 32, so if your input was 128 sentences, then the model would translate that into 4 batches for processing.  DataLoader not needed.  If you are using Google Colab for this notebook, use the default setting.\n",
    "- `convert_to_numpy`: default output is a numpy array. However, because Weaviate does not accept the np.array data type, we'll want to eventually convert these arrays into Python lists.\n",
    "- `device`: set to either cpu or GPU (`\"cuda:0\"`) for single GPU.  If `None` the function will handle this step for you and choose the fastest option!"
   ]
  },
  {
   "cell_type": "markdown",
   "metadata": {},
   "source": [
    "### Create Episode Embeddings:\n",
    "\n",
    "#### We'll write a function that will vectorize each content split list (single episode) and then merge the text content and their vector representations into a single list of (text, vector) tuples.  Gather all episode lists into a single large list. We need to preserve the ordering of the text and their vector representations \n"
   ]
  },
  {
   "cell_type": "code",
   "execution_count": null,
   "metadata": {},
   "outputs": [],
   "source": [
    "def encode_content_splits(content_splits: List[List[str]],\n",
    "                          model: SentenceTransformer,\n",
    "                          device: str='cuda:0'\n",
    "                          ) -> List[List[Tuple[str, np.array]]]:\n",
    "    '''Encode content splits as vector embeddings from a list of content splits\n",
    "     where each list of splits is a single podcast episode.'''\n",
    "\n",
    "    text_vector_tuples = []\n",
    "    for episode in tqdm(content_splits):\n",
    "      text_vector_tuples.append(list(zip(episode,model.encode(episode))))\n",
    "\n",
    "    return text_vector_tuples\n",
    "  \n",
    "text_vector_tuples = encode_content_splits(content_splits, model)"
   ]
  },
  {
   "cell_type": "code",
   "execution_count": null,
   "metadata": {},
   "outputs": [
    {
     "name": "stdout",
     "output_type": "stream",
     "text": [
      "Data not available at /content/impact_theory_data.json\n"
     ]
    },
    {
     "data": {
      "application/vnd.jupyter.widget-view+json": {
       "model_id": "b2e8e2fa53f843bdb9bc987b894ec879",
       "version_major": 2,
       "version_minor": 0
      },
      "text/plain": [
       "  0%|          | 0/3 [00:00<?, ?it/s]"
      ]
     },
     "metadata": {},
     "output_type": "display_data"
    },
    {
     "name": "stderr",
     "output_type": "stream",
     "text": [
      ".\n",
      "----------------------------------------------------------------------\n",
      "Ran 1 test in 16.822s\n",
      "\n",
      "OK\n"
     ]
    },
    {
     "data": {
      "text/plain": [
       "<unittest.runner.TextTestResult run=1 errors=0 failures=0>"
      ]
     },
     "execution_count": 62,
     "metadata": {},
     "output_type": "execute_result"
    }
   ],
   "source": [
    "#Unit Test to ensure you're on the right track\n",
    "import unittest\n",
    "from unitesting_utils import load_impact_theory_data\n",
    "\n",
    "class TestEncodeContentSplits(unittest.TestCase):\n",
    "    '''\n",
    "    Unit test to ensure proper functionality of split_contents function\n",
    "    '''\n",
    "\n",
    "    def test_encode_content_splits(self):\n",
    "        import tiktoken\n",
    "        from numpy import ndarray\n",
    "        from llama_index.text_splitter import SentenceSplitter\n",
    "        from sentence_transformers import SentenceTransformer\n",
    "\n",
    "        data = load_impact_theory_data()\n",
    "\n",
    "        #get splits first\n",
    "        subset = data[:3]\n",
    "        chunk_size = 256\n",
    "        chunk_overlap = 0\n",
    "        encoding = tiktoken.encoding_for_model('gpt-3.5-turbo-0613')\n",
    "        gpt35_txt_splitter = SentenceSplitter(chunk_size=chunk_size, tokenizer=encoding.encode, chunk_overlap=chunk_overlap)\n",
    "        splits = split_contents(subset, gpt35_txt_splitter)\n",
    "\n",
    "        #encode splits\n",
    "        model = SentenceTransformer('sentence-transformers/all-MiniLM-L6-v2')\n",
    "        results = encode_content_splits(splits, model)\n",
    "\n",
    "        #run assertion tests\n",
    "        self.assertEqual(len(results), 3)\n",
    "        self.assertEqual(len(results[0]), 83)\n",
    "        self.assertEqual(len(results[1]), 178)\n",
    "        self.assertEqual(len(results[2]), 144)\n",
    "        self.assertTrue(isinstance(results, list))\n",
    "        self.assertTrue(isinstance(results[0], list))\n",
    "        self.assertTrue(isinstance(results[0][0], tuple))\n",
    "        self.assertTrue(isinstance(results[0][0][0], str))\n",
    "        self.assertTrue(isinstance(results[0][0][1], ndarray))\n",
    "unittest.TextTestRunner().run(unittest.TestLoader().loadTestsFromTestCase(TestEncodeContentSplits))"
   ]
  },
  {
   "cell_type": "markdown",
   "metadata": {},
   "source": [
    "# Combining Metadata with Text/Vectors\n",
    "\n",
    "#### *We will write a function that will combine episode metadata from the original corpus with their associated text/vector tuples*\n",
    "#### We don't want our metadata to go to waste.  Now that we have our text/vector tuples grouped by episode, we can easily join all of that information together with each episode's metadata."
   ]
  },
  {
   "cell_type": "code",
   "execution_count": null,
   "metadata": {},
   "outputs": [],
   "source": [
    "def join_metadata(corpus: List[dict],\n",
    "                  text_vector_list: List[List[Tuple[str, np.array]]],\n",
    "                  content_field: str='content',\n",
    "                  embedding_field: str='content_embedding'\n",
    "                 ) -> List[dict]:\n",
    "    '''\n",
    "    Combine episode metadata from original corpus with text/vectors tuples.\n",
    "    Creates a new dictionary for each text/vector combination.\n",
    "    '''\n",
    "\n",
    "    joined_documents = []\n",
    "\n",
    "    for i, doc in enumerate(corpus):\n",
    "      for j,tup in enumerate(text_vector_list[i]):\n",
    "\n",
    "        d = {k:v for k,v in doc.items() if k!=content_field}\n",
    "\n",
    "        video_id = doc['video_id']\n",
    "        d['doc_id'] = f'{video_id}_{j}'\n",
    "        d['content'] = tup[0]\n",
    "        d['content_embedding'] = tup[1].tolist()\n",
    "\n",
    "        joined_documents.append(d)\n",
    "\n",
    "    return joined_documents\n",
    "\n",
    "docs = join_metadata(data, text_vector_tuples)"
   ]
  },
  {
   "cell_type": "code",
   "execution_count": null,
   "metadata": {},
   "outputs": [
    {
     "data": {
      "text/plain": [
       "26448"
      ]
     },
     "execution_count": 96,
     "metadata": {},
     "output_type": "execute_result"
    }
   ],
   "source": [
    "len(docs)"
   ]
  },
  {
   "cell_type": "code",
   "execution_count": null,
   "metadata": {},
   "outputs": [],
   "source": []
  },
  {
   "cell_type": "markdown",
   "metadata": {},
   "source": [
    "## Step 4 --> Save\n",
    "\n",
    "We've reached the final step in our data preparation phase. We should have 26,448 distinct documents and now ready to index those documents on **Weaviate host/database**. Before moving on to the indexing step, we'll want to store our dataset on disk.\n",
    "\n",
    "The FileIO Class is a convenient wrapper that makes it easy to save data to disk in either json or [parquet format](https://towardsdatascience.com/demystifying-the-parquet-file-format-13adb0206705).  The choice is yours on which format to use, however, a note of caution: the json format will take up 3-4x more room on disk than parquet."
   ]
  },
  {
   "cell_type": "code",
   "execution_count": 102,
   "metadata": {},
   "outputs": [
    {
     "name": "stderr",
     "output_type": "stream",
     "text": [
      "huggingface/tokenizers: The current process just got forked, after parallelism has already been used. Disabling parallelism to avoid deadlocks...\n",
      "To disable this warning, you can either:\n",
      "\t- Avoid using `tokenizers` before the fork if possible\n",
      "\t- Explicitly set the environment variable TOKENIZERS_PARALLELISM=(true | false)\n"
     ]
    }
   ],
   "source": [
    "!pip install pyarrow --quiet"
   ]
  },
  {
   "cell_type": "code",
   "execution_count": 99,
   "metadata": {},
   "outputs": [
    {
     "name": "stderr",
     "output_type": "stream",
     "text": [
      "\u001b[32m2024-04-11 12:16:59.458\u001b[0m | \u001b[1mINFO    \u001b[0m | \u001b[36mpreprocessing\u001b[0m:\u001b[36msave_as_parquet\u001b[0m:\u001b[36m41\u001b[0m - \u001b[1mDataFrame saved as parquet file here: impact-theory-minilmL6-256.parquet\u001b[0m\n"
     ]
    }
   ],
   "source": [
    "#instantiate FileIO Class\n",
    "io = FileIO()\n",
    "outpath = \"impact-theory-minilmL6-256.parquet\"\n",
    "io.save_as_parquet(file_path=outpath, data=docs, overwrite=False)"
   ]
  },
  {
   "cell_type": "code",
   "execution_count": 103,
   "metadata": {},
   "outputs": [
    {
     "name": "stdout",
     "output_type": "stream",
     "text": [
      "Shape of data: (26448, 12)\n",
      "Memory Usage: 2.42+ MB\n"
     ]
    }
   ],
   "source": [
    "#Verify that you can reload data\n",
    "data_with_vectors = io.load_parquet(file_path=outpath)\n",
    "# data_with_vectors[0]"
   ]
  },
  {
   "cell_type": "code",
   "execution_count": null,
   "metadata": {},
   "outputs": [],
   "source": []
  }
 ],
 "metadata": {
  "kernelspec": {
   "display_name": "Python 3.9.12 ('base')",
   "language": "python",
   "name": "python3"
  },
  "language_info": {
   "codemirror_mode": {
    "name": "ipython",
    "version": 3
   },
   "file_extension": ".py",
   "mimetype": "text/x-python",
   "name": "python",
   "nbconvert_exporter": "python",
   "pygments_lexer": "ipython3",
   "version": "3.9.12"
  },
  "orig_nbformat": 4,
  "vscode": {
   "interpreter": {
    "hash": "9acfe90dd9363e37394870b40236d751d0922ea7aa12f35ac9a39888e799f85c"
   }
  }
 },
 "nbformat": 4,
 "nbformat_minor": 2
}
